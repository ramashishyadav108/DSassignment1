{
 "cells": [
  {
   "cell_type": "code",
   "execution_count": 1,
   "id": "979cb8a9-0d2b-4cb0-ae6e-3eb6331a717d",
   "metadata": {},
   "outputs": [],
   "source": [
    "#Answer :1\n",
    "#      a) for loop is used when the value of iteration are known and while loop is used when we don't know the value of iteration.\n",
    "#      b) while loop check the condition first whereas for didn't.\n"
   ]
  },
  {
   "cell_type": "code",
   "execution_count": 1,
   "id": "372a1a9a-a9db-4ec8-8aa9-e72af794e950",
   "metadata": {},
   "outputs": [
    {
     "name": "stdout",
     "output_type": "stream",
     "text": [
      "55\n",
      "55\n",
      "3628800\n",
      "3628800\n"
     ]
    }
   ],
   "source": [
    "#Answer :2\n",
    "#sum of first 10 natural number\n",
    "#by while loop:-\n",
    "i,s1=1,0\n",
    "while i<=10:\n",
    "    s1=s1+i\n",
    "    i+=1#\n",
    "print(s1)   \n",
    "\n",
    "#by for loop:-\n",
    "s2=0\n",
    "for i in range(11):\n",
    "    s2=s2+i\n",
    "print(s2)\n",
    "\n",
    "#product of first 10 natural number\n",
    "#by while loop:-\n",
    "i,p1=1,1\n",
    "while i<=10 :\n",
    "    p1*=i\n",
    "    i+=1\n",
    "print(p1)\n",
    "\n",
    "#by for loop:-\n",
    "p2=1\n",
    "for i in range(1,11,1):\n",
    "    p2*=i\n",
    "print(p2)    \n",
    "    \n"
   ]
  },
  {
   "cell_type": "code",
   "execution_count": 16,
   "id": "88992b69-23fe-49b6-87e7-3eaedcb1bfbe",
   "metadata": {},
   "outputs": [
    {
     "name": "stdin",
     "output_type": "stream",
     "text": [
      "Enter the unit of electricity used: 310\n"
     ]
    },
    {
     "data": {
      "text/plain": [
       "2250.0"
      ]
     },
     "execution_count": 16,
     "metadata": {},
     "output_type": "execute_result"
    }
   ],
   "source": [
    "#Answer :3\n",
    "#bill \n",
    "n=int(input(\"Enter the unit of electricity used:\"))\n",
    "\n",
    "if n>300:\n",
    "    t1=100*4.5+100*6+100*10+(n-300)*20\n",
    "elif n>200 and n<=300:\n",
    "    t1=100*4.5+100*6+(n-200)*10\n",
    "elif  n>100 and n<=200:\n",
    "    t1=100*4.5+(n-100)*6\n",
    "elif n>=0 and n<=100:\n",
    "    t1=n*4.5\n",
    "else :\n",
    "    t1=\"INVALID\"\n",
    "t1    \n",
    "      "
   ]
  },
  {
   "cell_type": "code",
   "execution_count": 4,
   "id": "d1e9566a-5255-4812-9fc7-a385f88659dc",
   "metadata": {},
   "outputs": [
    {
     "name": "stdout",
     "output_type": "stream",
     "text": [
      "[1, 2, 3, 4, 5, 6, 7, 8, 9, 10, 11, 12, 13, 14, 15, 16, 17, 18, 19, 20, 21, 22, 23, 24, 25, 26, 27, 28, 29, 30, 31, 32, 33, 34, 35, 36, 37, 38, 39, 40, 41, 42, 43, 44, 45, 46, 47, 48, 49, 50, 51, 52, 53, 54, 55, 56, 57, 58, 59, 60, 61, 62, 63, 64, 65, 66, 67, 68, 69, 70, 71, 72, 73, 74, 75, 76, 77, 78, 79, 80, 81, 82, 83, 84, 85, 86, 87, 88, 89, 90, 91, 92, 93, 94, 95, 96, 97, 98, 99, 100]\n",
      "[1, 8, 27, 64, 125, 216, 343, 512, 729, 1000, 1331, 1728, 2197, 2744, 3375, 4096, 4913, 5832, 6859, 8000, 9261, 10648, 12167, 13824, 15625, 17576, 19683, 21952, 24389, 27000, 29791, 32768, 35937, 39304, 42875, 46656, 50653, 54872, 59319, 64000, 68921, 74088, 79507, 85184, 91125, 97336, 103823, 110592, 117649, 125000, 132651, 140608, 148877, 157464, 166375, 175616, 185193, 195112, 205379, 216000, 226981, 238328, 250047, 262144, 274625, 287496, 300763, 314432, 328509, 343000, 357911, 373248, 389017, 405224, 421875, 438976, 456533, 474552, 493039, 512000, 531441, 551368, 571787, 592704, 614125, 636056, 658503, 681472, 704969, 729000, 753571, 778688, 804357, 830584, 857375, 884736, 912673, 941192, 970299, 1000000]\n",
      "[1, 8, 27, 64, 125, 216, 343, 512, 729, 1000, 1331, 1728, 2197, 2744, 3375, 4096, 4913, 5832, 6859, 8000, 9261, 10648, 12167, 13824, 15625, 17576, 19683, 21952, 24389, 27000, 29791, 32768, 35937, 39304, 42875, 46656, 50653, 54872, 59319, 64000, 68921, 74088, 79507, 85184, 91125, 97336, 103823, 110592, 117649, 125000, 132651, 140608, 148877, 157464, 166375, 175616, 185193, 195112, 205379, 216000, 226981, 238328, 250047, 262144, 274625, 287496, 300763, 314432, 328509, 343000, 357911, 373248, 389017, 405224, 421875, 438976, 456533, 474552, 493039, 512000, 531441, 551368, 571787, 592704, 614125, 636056, 658503, 681472, 704969, 729000, 753571, 778688, 804357, 830584, 857375, 884736, 912673, 941192, 970299, 1000000]\n",
      "[8, 64, 125, 216, 512, 1000, 1728, 2744, 3375, 4096, 5832, 8000, 10648, 13824, 15625, 17576, 21952, 27000, 32768, 39304, 42875, 46656, 54872, 64000, 74088, 85184, 91125, 97336, 110592, 125000, 140608, 157464, 166375, 175616, 195112, 216000, 238328, 262144, 274625, 287496, 314432, 343000, 373248, 405224, 421875, 438976, 474552, 512000, 551368, 592704, 614125, 636056, 681472, 729000, 778688, 830584, 857375, 884736, 941192, 1000000]\n"
     ]
    }
   ],
   "source": [
    "#answer :4\n",
    "l1=[]\n",
    "for i in range(1,101,1):\n",
    "   l1.append(i)\n",
    "print(l1)\n",
    "\n",
    "#cube using while loop:-\n",
    "i=1\n",
    "l2=[]\n",
    "while i<=100:\n",
    "   l2.append(i**3)\n",
    "   i+=1\n",
    "print(l2)  \n",
    "\n",
    "#cube by using for loop:-\n",
    "l2=[]\n",
    "for i in range(1,101,1):\n",
    "    l2.append(i**3)\n",
    "print(l2)  \n",
    "\n",
    "#divisible by 4 and 5 append in a list\n",
    "l3=[]\n",
    "for i in l2:\n",
    "    if i%4==0 or i%5==0 :\n",
    "        l3.append(i)\n",
    "print(l3)        \n",
    "    "
   ]
  },
  {
   "cell_type": "code",
   "execution_count": 8,
   "id": "254173cc-d6af-4d43-ac2e-1a9c7c3ebfa3",
   "metadata": {},
   "outputs": [
    {
     "data": {
      "text/plain": [
       "12"
      ]
     },
     "execution_count": 8,
     "metadata": {},
     "output_type": "execute_result"
    }
   ],
   "source": [
    "#Answer :5\n",
    "#count a vowel in a string:-\n",
    "string=\"I want to become a data scientist\"\n",
    "string.lower()\n",
    "j=0\n",
    "for i in string.lower():\n",
    "    if i=='a' or i=='e' or i=='i' or i=='o' or i=='u':\n",
    "       j+=1\n",
    "j        "
   ]
  }
 ],
 "metadata": {
  "kernelspec": {
   "display_name": "Python 3 (ipykernel)",
   "language": "python",
   "name": "python3"
  },
  "language_info": {
   "codemirror_mode": {
    "name": "ipython",
    "version": 3
   },
   "file_extension": ".py",
   "mimetype": "text/x-python",
   "name": "python",
   "nbconvert_exporter": "python",
   "pygments_lexer": "ipython3",
   "version": "3.10.8"
  }
 },
 "nbformat": 4,
 "nbformat_minor": 5
}
